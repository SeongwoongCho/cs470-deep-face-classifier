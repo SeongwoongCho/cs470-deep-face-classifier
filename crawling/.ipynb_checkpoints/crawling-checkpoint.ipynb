{
 "cells": [
  {
   "cell_type": "code",
   "execution_count": 1,
   "metadata": {},
   "outputs": [
    {
     "name": "stdout",
     "output_type": "stream",
     "text": [
      "Traceback (most recent call last):\n",
      "  File \"crawling.py\", line 1, in <module>\n",
      "    from google_images_download import google_images_download   #importing the library\n",
      "ModuleNotFoundError: No module named 'google_images_download'\n"
     ]
    }
   ],
   "source": [
    "!python crawling.py"
   ]
  },
  {
   "cell_type": "code",
   "execution_count": 2,
   "metadata": {},
   "outputs": [
    {
     "name": "stdout",
     "output_type": "stream",
     "text": [
      "Collecting git+http://github.com/Joeclinton1/google-images-download.git\n",
      "  Cloning http://github.com/Joeclinton1/google-images-download.git to /tmp/pip-req-build-rg1utjc9\n",
      "  Running command git clone -q http://github.com/Joeclinton1/google-images-download.git /tmp/pip-req-build-rg1utjc9\n",
      "Requirement already satisfied (use --upgrade to upgrade): google-images-download==2.8.0 from git+http://github.com/Joeclinton1/google-images-download.git in /home/jovyan_venv/.venv/torch1.4.0-py3.6-cuda10.1/lib/python3.6/site-packages\n",
      "Requirement already satisfied: selenium in /home/jovyan_venv/.venv/torch1.4.0-py3.6-cuda10.1/lib/python3.6/site-packages (from google-images-download==2.8.0) (3.141.0)\n",
      "Requirement already satisfied: urllib3 in /usr/local/lib/python3.6/dist-packages (from selenium->google-images-download==2.8.0) (1.25.9)\n",
      "Building wheels for collected packages: google-images-download\n",
      "  Building wheel for google-images-download (setup.py) ... \u001b[?25ldone\n",
      "\u001b[?25h  Created wheel for google-images-download: filename=google_images_download-2.8.0-py2.py3-none-any.whl size=15459 sha256=035429057c73fd729df27637b753290cdbd6914b354cfe5cd59995e9fb50a994\n",
      "  Stored in directory: /tmp/pip-ephem-wheel-cache-lolx7dnv/wheels/ee/5d/de/19166f5aba89215b3780f5315b35fec44b0a0fb67a5c7576cf\n",
      "Successfully built google-images-download\n",
      "\u001b[33mWARNING: You are using pip version 20.1.1; however, version 20.2.4 is available.\n",
      "You should consider upgrading via the '/home/jovyan/.venv/torch1.4.0-py3.6-cuda10.1/bin/python -m pip install --upgrade pip' command.\u001b[0m\n"
     ]
    }
   ],
   "source": [
    "!pip install git+http://github.com/Joeclinton1/google-images-download.git"
   ]
  },
  {
   "cell_type": "code",
   "execution_count": 4,
   "metadata": {},
   "outputs": [
    {
     "name": "stdout",
     "output_type": "stream",
     "text": [
      "\n",
      "Item no.: 1 --> Item name = \\ubc29\\ud0c4\\uc18c\\ub144\\ub2e8 \\uc815\\uad6d\n",
      "Evaluating...\n",
      "Looks like we cannot locate the path the 'chromedriver' (use the '--chromedriver' argument to specify the path to the executable.) or google chrome browser is not installed on your machine (exception: expected str, bytes or os.PathLike object, not NoneType)\n"
     ]
    }
   ],
   "source": [
    "!python crawling.py"
   ]
  },
  {
   "cell_type": "code",
   "execution_count": 3,
   "metadata": {},
   "outputs": [
    {
     "name": "stdout",
     "output_type": "stream",
     "text": [
      "Reading package lists... Done\n",
      "Building dependency tree       \n",
      "Reading state information... Done\n",
      "The following additional packages will be installed:\n",
      "  adwaita-icon-theme at-spi2-core chromium-browser chromium-browser-l10n\n",
      "  chromium-codecs-ffmpeg-extra dconf-gsettings-backend dconf-service\n",
      "  fontconfig glib-networking glib-networking-common glib-networking-services\n",
      "  gsettings-desktop-schemas gtk-update-icon-cache hicolor-icon-theme\n",
      "  humanity-icon-theme libasound2 libasound2-data libatk-bridge2.0-0\n",
      "  libatk1.0-0 libatk1.0-data libatspi2.0-0 libauthen-sasl-perl\n",
      "  libavahi-client3 libavahi-common-data libavahi-common3 libcairo-gobject2\n",
      "  libcairo2 libcolord2 libcroco3 libcups2 libdata-dump-perl libdatrie1\n",
      "  libdconf1 libdrm-amdgpu1 libdrm-common libdrm-intel1 libdrm-nouveau2\n",
      "  libdrm-radeon1 libdrm2 libencode-locale-perl libepoxy0 libfile-basedir-perl\n",
      "  libfile-desktopentry-perl libfile-listing-perl libfile-mimeinfo-perl\n",
      "  libfont-afm-perl libfontenc1 libgbm1 libgdk-pixbuf2.0-0 libgdk-pixbuf2.0-bin\n",
      "  libgdk-pixbuf2.0-common libgl1 libgl1-mesa-dri libgl1-mesa-glx libglapi-mesa\n",
      "  libglvnd0 libglx-mesa0 libglx0 libgraphite2-3 libgtk-3-0 libgtk-3-bin\n",
      "  libgtk-3-common libharfbuzz0b libhtml-form-perl libhtml-format-perl\n",
      "  libhtml-parser-perl libhtml-tagset-perl libhtml-tree-perl\n",
      "  libhttp-cookies-perl libhttp-daemon-perl libhttp-date-perl\n",
      "  libhttp-message-perl libhttp-negotiate-perl libio-html-perl\n",
      "  libio-socket-ssl-perl libipc-system-simple-perl libjson-glib-1.0-0\n",
      "  libjson-glib-1.0-common liblcms2-2 libllvm10 liblwp-mediatypes-perl\n",
      "  liblwp-protocol-https-perl libmailtools-perl libnet-dbus-perl\n",
      "  libnet-http-perl libnet-smtp-ssl-perl libnet-ssleay-perl libnspr4 libnss3\n",
      "  libpango-1.0-0 libpangocairo-1.0-0 libpangoft2-1.0-0 libpciaccess0\n",
      "  libpixman-1-0 libproxy1v5 librest-0.7-0 librsvg2-2 librsvg2-common\n",
      "  libsensors4 libsoup-gnome2.4-1 libsoup2.4-1 libtext-iconv-perl libthai-data\n",
      "  libthai0 libtie-ixhash-perl libtimedate-perl libtry-tiny-perl liburi-perl\n",
      "  libwayland-client0 libwayland-cursor0 libwayland-egl1 libwayland-server0\n",
      "  libwww-perl libwww-robotrules-perl libx11-protocol-perl libx11-xcb1 libxaw7\n",
      "  libxcb-dri2-0 libxcb-dri3-0 libxcb-glx0 libxcb-present0 libxcb-render0\n",
      "  libxcb-shape0 libxcb-shm0 libxcb-sync1 libxcomposite1 libxcursor1\n",
      "  libxdamage1 libxfixes3 libxft2 libxi6 libxinerama1 libxkbcommon0\n",
      "  libxml-parser-perl libxml-twig-perl libxml-xpathengine-perl libxmu6 libxmuu1\n",
      "  libxrandr2 libxshmfence1 libxss1 libxt6 libxtst6 libxv1 libxxf86dga1\n",
      "  libxxf86vm1 netbase perl-openssl-defaults shared-mime-info ubuntu-mono\n",
      "  x11-utils x11-xserver-utils xdg-utils xkb-data\n",
      "Suggested packages:\n",
      "  webaccounts-chromium-extension unity-chromium-extension adobe-flashplugin\n",
      "  libasound2-plugins alsa-utils libdigest-hmac-perl libgssapi-perl colord\n",
      "  cups-common gvfs liblcms2-utils libcrypt-ssleay-perl pciutils librsvg2-bin\n",
      "  lm-sensors libauthen-ntlm-perl libunicode-map8-perl libunicode-string-perl\n",
      "  xml-twig-tools mesa-utils nickle cairo-5c xorg-docs-core\n",
      "The following NEW packages will be installed:\n",
      "  adwaita-icon-theme at-spi2-core chromium-browser chromium-browser-l10n\n",
      "  chromium-chromedriver chromium-codecs-ffmpeg-extra dconf-gsettings-backend\n",
      "  dconf-service fontconfig glib-networking glib-networking-common\n",
      "  glib-networking-services gsettings-desktop-schemas gtk-update-icon-cache\n",
      "  hicolor-icon-theme humanity-icon-theme libasound2 libasound2-data\n",
      "  libatk-bridge2.0-0 libatk1.0-0 libatk1.0-data libatspi2.0-0\n",
      "  libauthen-sasl-perl libavahi-client3 libavahi-common-data libavahi-common3\n",
      "  libcairo-gobject2 libcairo2 libcolord2 libcroco3 libcups2 libdata-dump-perl\n",
      "  libdatrie1 libdconf1 libdrm-amdgpu1 libdrm-common libdrm-intel1\n",
      "  libdrm-nouveau2 libdrm-radeon1 libdrm2 libencode-locale-perl libepoxy0\n",
      "  libfile-basedir-perl libfile-desktopentry-perl libfile-listing-perl\n",
      "  libfile-mimeinfo-perl libfont-afm-perl libfontenc1 libgbm1\n",
      "  libgdk-pixbuf2.0-0 libgdk-pixbuf2.0-bin libgdk-pixbuf2.0-common libgl1\n",
      "  libgl1-mesa-dri libgl1-mesa-glx libglapi-mesa libglvnd0 libglx-mesa0 libglx0\n",
      "  libgraphite2-3 libgtk-3-0 libgtk-3-bin libgtk-3-common libharfbuzz0b\n",
      "  libhtml-form-perl libhtml-format-perl libhtml-parser-perl\n",
      "  libhtml-tagset-perl libhtml-tree-perl libhttp-cookies-perl\n",
      "  libhttp-daemon-perl libhttp-date-perl libhttp-message-perl\n",
      "  libhttp-negotiate-perl libio-html-perl libio-socket-ssl-perl\n",
      "  libipc-system-simple-perl libjson-glib-1.0-0 libjson-glib-1.0-common\n",
      "  liblcms2-2 libllvm10 liblwp-mediatypes-perl liblwp-protocol-https-perl\n",
      "  libmailtools-perl libnet-dbus-perl libnet-http-perl libnet-smtp-ssl-perl\n",
      "  libnet-ssleay-perl libnspr4 libnss3 libpango-1.0-0 libpangocairo-1.0-0\n",
      "  libpangoft2-1.0-0 libpciaccess0 libpixman-1-0 libproxy1v5 librest-0.7-0\n",
      "  librsvg2-2 librsvg2-common libsensors4 libsoup-gnome2.4-1 libsoup2.4-1\n",
      "  libtext-iconv-perl libthai-data libthai0 libtie-ixhash-perl libtimedate-perl\n",
      "  libtry-tiny-perl liburi-perl libwayland-client0 libwayland-cursor0\n",
      "  libwayland-egl1 libwayland-server0 libwww-perl libwww-robotrules-perl\n",
      "  libx11-protocol-perl libx11-xcb1 libxaw7 libxcb-dri2-0 libxcb-dri3-0\n",
      "  libxcb-glx0 libxcb-present0 libxcb-render0 libxcb-shape0 libxcb-shm0\n",
      "  libxcb-sync1 libxcomposite1 libxcursor1 libxdamage1 libxfixes3 libxft2\n",
      "  libxi6 libxinerama1 libxkbcommon0 libxml-parser-perl libxml-twig-perl\n",
      "  libxml-xpathengine-perl libxmu6 libxmuu1 libxrandr2 libxshmfence1 libxss1\n",
      "  libxt6 libxtst6 libxv1 libxxf86dga1 libxxf86vm1 netbase\n",
      "  perl-openssl-defaults shared-mime-info ubuntu-mono x11-utils\n",
      "  x11-xserver-utils xdg-utils xkb-data\n",
      "0 upgraded, 155 newly installed, 0 to remove and 59 not upgraded.\n",
      "Need to get 118 MB of archives.\n",
      "After this operation, 662 MB of additional disk space will be used.\n",
      "Do you want to continue? [Y/n] ^C\n"
     ]
    }
   ],
   "source": [
    "!sudo apt-get install chromium-chromedriver"
   ]
  },
  {
   "cell_type": "code",
   "execution_count": 9,
   "metadata": {},
   "outputs": [
    {
     "name": "stdout",
     "output_type": "stream",
     "text": [
      "\u001b[1mdpkg-query:\u001b[0m package 'chromedriver' is not installed\n",
      "Use dpkg --info (= dpkg-deb --info) to examine archive files,\n",
      "and dpkg --contents (= dpkg-deb --contents) to list their contents.\n"
     ]
    }
   ],
   "source": [
    "!dpkg -L chromedriver"
   ]
  },
  {
   "cell_type": "code",
   "execution_count": 8,
   "metadata": {},
   "outputs": [
    {
     "name": "stdout",
     "output_type": "stream",
     "text": [
      "\n",
      "Item no.: 1 --> Item name = \\ubc29\\ud0c4\\uc18c\\ub144\\ub2e8 \\uc815\\uad6d\n",
      "Evaluating...\n",
      "Looks like we cannot locate the path the 'chromedriver' (use the '--chromedriver' argument to specify the path to the executable.) or google chrome browser is not installed on your machine (exception: expected str, bytes or os.PathLike object, not NoneType)\n"
     ]
    }
   ],
   "source": [
    "!python crawling.py --chromedriver /usr/local/lib/chromium-browser/chromedriver"
   ]
  },
  {
   "cell_type": "code",
   "execution_count": null,
   "metadata": {},
   "outputs": [],
   "source": []
  }
 ],
 "metadata": {
  "kernelspec": {
   "display_name": "torch1.4.0-py3.6-cuda10.1",
   "language": "python",
   "name": "torch1.4.0-py3.6-cuda10.1"
  },
  "language_info": {
   "codemirror_mode": {
    "name": "ipython",
    "version": 3
   },
   "file_extension": ".py",
   "mimetype": "text/x-python",
   "name": "python",
   "nbconvert_exporter": "python",
   "pygments_lexer": "ipython3",
   "version": "3.6.9"
  }
 },
 "nbformat": 4,
 "nbformat_minor": 4
}
